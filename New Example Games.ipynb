{
 "cells": [
  {
   "cell_type": "markdown",
   "metadata": {
    "collapsed": true
   },
   "source": [
    "# Example Games\n",
    "These are examples of games so you can see how the API works and the AI behaves."
   ]
  },
  {
   "cell_type": "code",
   "execution_count": 1,
   "metadata": {},
   "outputs": [],
   "source": [
    "import machine"
   ]
  },
  {
   "cell_type": "markdown",
   "metadata": {},
   "source": [
    "## Computer vs Other Human, Round 2\n",
    "In this case I play the computers hands for it against another person."
   ]
  },
  {
   "cell_type": "code",
   "execution_count": 2,
   "metadata": {},
   "outputs": [],
   "source": [
    "# Initialize computers hand\n",
    "ai = machine.AIPlayer(\"10 2 7 Q 9 A 4 K 6 A\")"
   ]
  },
  {
   "cell_type": "code",
   "execution_count": 3,
   "metadata": {},
   "outputs": [
    {
     "name": "stdout",
     "output_type": "stream",
     "text": [
      "Tell the other player I've played: 2 * As, Actually play: ['A', 'A']\nTook 2.46 seconds\n"
     ]
    }
   ],
   "source": [
    "# Computer starts\n",
    "ai.play_cards()"
   ]
  },
  {
   "cell_type": "code",
   "execution_count": 4,
   "metadata": {},
   "outputs": [
    {
     "name": "stdout",
     "output_type": "stream",
     "text": [
      "I belive the other player is telling the truth.\n"
     ]
    }
   ],
   "source": [
    "ai.other_players_play('A', 3)\n"
   ]
  },
  {
   "cell_type": "markdown",
   "metadata": {},
   "source": [
    "Above is a bug, caused by the fact the computer now only remembers what it has in its hands. I'll now implement a fix for this.\n",
    "\n",
    "## Computer vs Other Human, Round 3"
   ]
  },
  {
   "cell_type": "code",
   "execution_count": 2,
   "metadata": {},
   "outputs": [],
   "source": [
    "# Initialize computers hand\n",
    "ai = machine.AIPlayer(\"2 7 9 Q 2 A 6 5 4 10\")"
   ]
  },
  {
   "cell_type": "code",
   "execution_count": 4,
   "metadata": {},
   "outputs": [
    {
     "name": "stdout",
     "output_type": "stream",
     "text": [
      "Tell the other player I've played: 2 * 9s, Actually play: ['10', 'Q']\nTook 0.36 seconds\n"
     ]
    }
   ],
   "source": [
    "ai.play_cards()"
   ]
  },
  {
   "cell_type": "code",
   "execution_count": 5,
   "metadata": {},
   "outputs": [
    {
     "name": "stdout",
     "output_type": "stream",
     "text": [
      "I belive the other player is telling the truth.\n"
     ]
    }
   ],
   "source": [
    "ai.other_players_play('9', 2)\n"
   ]
  },
  {
   "cell_type": "code",
   "execution_count": 6,
   "metadata": {},
   "outputs": [
    {
     "name": "stdout",
     "output_type": "stream",
     "text": [
      "Tell the other player I've played: 2 * 10s, Actually play: ['9', 'A']\nTook 0.02 seconds\n"
     ]
    }
   ],
   "source": [
    "ai.play_cards()"
   ]
  },
  {
   "cell_type": "code",
   "execution_count": 8,
   "metadata": {},
   "outputs": [
    {
     "name": "stdout",
     "output_type": "stream",
     "text": [
      "I belive the other player is telling the truth.\n"
     ]
    }
   ],
   "source": [
    "ai.other_players_play('9', 2)\n"
   ]
  },
  {
   "cell_type": "code",
   "execution_count": 9,
   "metadata": {},
   "outputs": [
    {
     "name": "stdout",
     "output_type": "stream",
     "text": [
      "Tell the other player I've played: 2 * 9s, Actually play: ['6', '7']\nTook 0.00 seconds\n"
     ]
    }
   ],
   "source": [
    "ai.play_cards()"
   ]
  },
  {
   "cell_type": "code",
   "execution_count": 10,
   "metadata": {},
   "outputs": [
    {
     "name": "stdout",
     "output_type": "stream",
     "text": [
      "I belive the other player is telling the truth.\n"
     ]
    }
   ],
   "source": [
    "ai.other_players_play('9', 2)\n"
   ]
  },
  {
   "cell_type": "code",
   "execution_count": 11,
   "metadata": {},
   "outputs": [
    {
     "name": "stdout",
     "output_type": "stream",
     "text": [
      "Tell the other player I've played: 2 * 10s, Actually play: ['4', '5']\nTook 0.00 seconds\n"
     ]
    }
   ],
   "source": [
    "ai.play_cards()"
   ]
  },
  {
   "cell_type": "code",
   "execution_count": 12,
   "metadata": {},
   "outputs": [
    {
     "name": "stdout",
     "output_type": "stream",
     "text": [
      "I believe the other player has cheated.\n"
     ]
    }
   ],
   "source": [
    "ai.other_players_play('9', 4)\n"
   ]
  },
  {
   "cell_type": "code",
   "execution_count": 13,
   "metadata": {},
   "outputs": [],
   "source": [
    "ai.other_player_takes_pile()"
   ]
  },
  {
   "cell_type": "code",
   "execution_count": 14,
   "metadata": {},
   "outputs": [
    {
     "name": "stdout",
     "output_type": "stream",
     "text": [
      "Error got best_move is \nTook 0.00 seconds\n"
     ]
    }
   ],
   "source": [
    "ai.play_cards()"
   ]
  },
  {
   "cell_type": "markdown",
   "metadata": {},
   "source": [
    "Error above appears to have occured as had only one possible play, 2 * 2s, will fix this now."
   ]
  },
  {
   "cell_type": "code",
   "execution_count": null,
   "metadata": {},
   "outputs": [],
   "source": []
  }
 ],
 "metadata": {
  "kernelspec": {
   "display_name": "Python 2",
   "language": "python",
   "name": "python2"
  },
  "language_info": {
   "codemirror_mode": {
    "name": "ipython",
    "version": 2
   },
   "file_extension": ".py",
   "mimetype": "text/x-python",
   "name": "python",
   "nbconvert_exporter": "python",
   "pygments_lexer": "ipython2",
   "version": "2.7.6"
  }
 },
 "nbformat": 4,
 "nbformat_minor": 0
}
