{
 "cells": [
  {
   "cell_type": "markdown",
   "metadata": {
    "collapsed": true
   },
   "source": [
    "# Example Games\n",
    "These are examples of games so you can see how the API works and the AI behaves."
   ]
  },
  {
   "cell_type": "code",
   "execution_count": 2,
   "metadata": {
    "collapsed": true
   },
   "outputs": [],
   "source": [
    "import machine"
   ]
  },
  {
   "cell_type": "markdown",
   "metadata": {},
   "source": [
    "\n",
    "## Computer vs Other Human, Round 1\n",
    "In this case I play the computers hands for it against another person.\n"
   ]
  },
  {
   "cell_type": "code",
   "execution_count": 3,
   "metadata": {},
   "outputs": [],
   "source": [
    "# Initialize computers hand\n",
    "ai = machine.AIPlayer(\"6 6 8 5 K A A Q J 8\")"
   ]
  },
  {
   "cell_type": "code",
   "execution_count": 4,
   "metadata": {},
   "outputs": [
    {
     "name": "stdout",
     "output_type": "stream",
     "text": [
      "Tell the other player I've played: 2 * 6s, Actually play: ['6', '6']\nTook 2.11 seconds\n"
     ]
    }
   ],
   "source": [
    "# The computer starts\n",
    "ai.play_cards()"
   ]
  },
  {
   "cell_type": "code",
   "execution_count": 5,
   "metadata": {},
   "outputs": [
    {
     "name": "stdout",
     "output_type": "stream",
     "text": [
      "I belive the other player is telling the truth.\n"
     ]
    }
   ],
   "source": [
    "ai.other_players_play('7', 3)\n"
   ]
  },
  {
   "cell_type": "code",
   "execution_count": 6,
   "metadata": {},
   "outputs": [
    {
     "name": "stdout",
     "output_type": "stream",
     "text": [
      "Tell the other player I've played: 2 * 8s, Actually play: ['8', '8']\nTook 0.37 seconds\n"
     ]
    }
   ],
   "source": [
    "ai.play_cards()"
   ]
  },
  {
   "cell_type": "code",
   "execution_count": 7,
   "metadata": {},
   "outputs": [],
   "source": [
    "ai.other_players_play('7', 3)\n"
   ]
  },
  {
   "cell_type": "code",
   "execution_count": 8,
   "metadata": {},
   "outputs": [
    {
     "name": "stdout",
     "output_type": "stream",
     "text": [
      "Tell the other player I've played: 2 * 8s, Actually play: ['K', 'A']\nTook 0.04 seconds\n"
     ]
    }
   ],
   "source": [
    "ai.play_cards()"
   ]
  },
  {
   "cell_type": "code",
   "execution_count": 9,
   "metadata": {},
   "outputs": [],
   "source": [
    "ai.other_players_play('7', 3)\n"
   ]
  },
  {
   "cell_type": "code",
   "execution_count": 10,
   "metadata": {},
   "outputs": [
    {
     "name": "stdout",
     "output_type": "stream",
     "text": [
      "Tell the other player I've played: 2 * 8s, Actually play: ['J', 'Q']\nTook 0.00 seconds\n"
     ]
    }
   ],
   "source": [
    "ai.play_cards()"
   ]
  },
  {
   "cell_type": "code",
   "execution_count": 11,
   "metadata": {},
   "outputs": [
    {
     "name": "stdout",
     "output_type": "stream",
     "text": [
      "I belive the other player is telling the truth.\n"
     ]
    }
   ],
   "source": [
    "ai.other_players_play('7', 1)"
   ]
  },
  {
   "cell_type": "markdown",
   "metadata": {},
   "source": [
    "Human wins.\n",
    "\n",
    "## Computer vs Other Human, Round 2"
   ]
  },
  {
   "cell_type": "code",
   "execution_count": 12,
   "metadata": {},
   "outputs": [],
   "source": [
    "# Initialize computers hand\n",
    "ai = machine.AIPlayer(\"6 A 4 7 A 7 9 10 5 4\")"
   ]
  },
  {
   "cell_type": "code",
   "execution_count": 13,
   "metadata": {},
   "outputs": [
    {
     "name": "stdout",
     "output_type": "stream",
     "text": [
      "I belive the other player is telling the truth.\n"
     ]
    }
   ],
   "source": [
    "# Other player starts\n",
    "ai.other_players_play('8', 2)\n"
   ]
  },
  {
   "cell_type": "code",
   "execution_count": 14,
   "metadata": {},
   "outputs": [
    {
     "name": "stdout",
     "output_type": "stream",
     "text": [
      "Tell the other player I've played: 2 * 7s, Actually play: ['7', '7']\nTook 2.24 seconds\n"
     ]
    }
   ],
   "source": [
    "ai.play_cards()"
   ]
  },
  {
   "cell_type": "code",
   "execution_count": 15,
   "metadata": {},
   "outputs": [
    {
     "name": "stdout",
     "output_type": "stream",
     "text": [
      "I belive the other player is telling the truth.\n"
     ]
    }
   ],
   "source": [
    "ai.other_players_play('7', 1)\n"
   ]
  },
  {
   "cell_type": "code",
   "execution_count": 16,
   "metadata": {},
   "outputs": [
    {
     "name": "stdout",
     "output_type": "stream",
     "text": [
      "Tell the other player I've played: 2 * 6s, Actually play: ['A', 'A']\nTook 0.30 seconds\n"
     ]
    }
   ],
   "source": [
    "ai.play_cards()\n"
   ]
  },
  {
   "cell_type": "code",
   "execution_count": 17,
   "metadata": {},
   "outputs": [
    {
     "name": "stdout",
     "output_type": "stream",
     "text": [
      "I belive the other player is telling the truth.\n"
     ]
    }
   ],
   "source": [
    "ai.other_players_play('7', 1)\n"
   ]
  },
  {
   "cell_type": "code",
   "execution_count": 18,
   "metadata": {},
   "outputs": [
    {
     "name": "stdout",
     "output_type": "stream",
     "text": [
      "Tell the other player I've played: 2 * 6s, Actually play: ['9', '10']\nTook 0.04 seconds\n"
     ]
    }
   ],
   "source": [
    "ai.play_cards()"
   ]
  },
  {
   "cell_type": "code",
   "execution_count": 19,
   "metadata": {},
   "outputs": [],
   "source": [
    "# Other player caught cheat\n",
    "ai.add_cards_to_hand(\"10 9 7 A A A 7 7 4 6\")"
   ]
  },
  {
   "cell_type": "code",
   "execution_count": 20,
   "metadata": {},
   "outputs": [
    {
     "name": "stdout",
     "output_type": "stream",
     "text": [
      "Tell the other player I've played: 3 * 7s, Actually play: ['7', '7', '7']\nTook 42.18 seconds\n"
     ]
    }
   ],
   "source": [
    "# Computer starts\n",
    "ai.play_cards()"
   ]
  },
  {
   "cell_type": "code",
   "execution_count": 21,
   "metadata": {},
   "outputs": [
    {
     "name": "stdout",
     "output_type": "stream",
     "text": [
      "I belive the other player is telling the truth.\n"
     ]
    }
   ],
   "source": [
    "ai.other_players_play('8', 2)"
   ]
  },
  {
   "cell_type": "code",
   "execution_count": 22,
   "metadata": {},
   "outputs": [
    {
     "name": "stdout",
     "output_type": "stream",
     "text": [
      "Tell the other player I've played: 2 * 7s, Actually play: ['A', 'A']\nTook 5.18 seconds\n"
     ]
    }
   ],
   "source": [
    "ai.play_cards()"
   ]
  },
  {
   "cell_type": "code",
   "execution_count": 23,
   "metadata": {},
   "outputs": [
    {
     "name": "stdout",
     "output_type": "stream",
     "text": [
      "I belive the other player is telling the truth.\n"
     ]
    }
   ],
   "source": [
    "ai.other_players_play('8', 2)\n"
   ]
  },
  {
   "cell_type": "code",
   "execution_count": 24,
   "metadata": {},
   "outputs": [
    {
     "name": "stdout",
     "output_type": "stream",
     "text": [
      "Tell the other player I've played: 2 * 7s, Actually play: ['9', '10']\nTook 0.91 seconds\n"
     ]
    }
   ],
   "source": [
    "ai.play_cards()"
   ]
  },
  {
   "cell_type": "markdown",
   "metadata": {},
   "source": [
    "Other player called cheat, decided to end game here and work on stopping it always saying the same thing, as is a big tell."
   ]
  },
  {
   "cell_type": "code",
   "execution_count": null,
   "metadata": {},
   "outputs": [],
   "source": []
  }
 ],
 "metadata": {
  "kernelspec": {
   "display_name": "Python 2",
   "language": "python",
   "name": "python2"
  },
  "language_info": {
   "codemirror_mode": {
    "name": "ipython",
    "version": 2
   },
   "file_extension": ".py",
   "mimetype": "text/x-python",
   "name": "python",
   "nbconvert_exporter": "python",
   "pygments_lexer": "ipython2",
   "version": "2.7.6"
  }
 },
 "nbformat": 4,
 "nbformat_minor": 0
}
